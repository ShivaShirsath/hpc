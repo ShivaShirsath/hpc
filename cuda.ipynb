{
  "nbformat": 4,
  "nbformat_minor": 0,
  "metadata": {
    "colab": {
      "provenance": [],
      "authorship_tag": "ABX9TyP1C1W/Qg7A0gEh2aX79kEO",
      "include_colab_link": true
    },
    "kernelspec": {
      "name": "python3",
      "display_name": "Python 3"
    },
    "language_info": {
      "name": "python"
    },
    "accelerator": "GPU",
    "gpuClass": "standard"
  },
  "cells": [
    {
      "cell_type": "markdown",
      "metadata": {
        "id": "view-in-github",
        "colab_type": "text"
      },
      "source": [
        "<a href=\"https://colab.research.google.com/github/ShivaShirsath/hpc/blob/master/cuda.ipynb\" target=\"_parent\"><img src=\"https://colab.research.google.com/assets/colab-badge.svg\" alt=\"Open In Colab\"/></a>"
      ]
    },
    {
      "cell_type": "code",
      "source": [
        "! apt update\n",
        "! apt install cuda"
      ],
      "metadata": {
        "id": "NRiXsXiVpFa5"
      },
      "execution_count": null,
      "outputs": []
    },
    {
      "cell_type": "code",
      "source": [
        "! pip install git+https://github.com/andreinechaev/nvcc4jupyter.git"
      ],
      "metadata": {
        "id": "W-czBmrzaVRf"
      },
      "execution_count": 8,
      "outputs": []
    },
    {
      "cell_type": "code",
      "source": [
        "%load_ext nvcc_plugin"
      ],
      "metadata": {
        "id": "ogg2Bhy3aitY",
        "colab": {
          "base_uri": "https://localhost:8080/"
        },
        "outputId": "55245262-883a-4601-be11-c0246cccaeb8"
      },
      "execution_count": null,
      "outputs": [
        {
          "output_type": "stream",
          "name": "stdout",
          "text": [
            "The nvcc_plugin extension is already loaded. To reload it, use:\n",
            "  %reload_ext nvcc_plugin\n"
          ]
        }
      ]
    },
    {
      "cell_type": "code",
      "source": [
        "%%cu\n",
        "\n",
        "#include<iostream>\n",
        "#include<cstdlib>\n",
        "\n",
        "using namespace std;\n",
        "\n",
        "//VectorAdd parallel function\n",
        "__global__ void vectorAdd(int *a, int *b, int *result, int n)\n",
        "{\n",
        "    int tid=threadIdx.x+blockIdx.x*blockDim.x;\n",
        "    if(tid<n)\n",
        "    {\n",
        "        result[tid]=a[tid]+b[tid];\n",
        "    }\n",
        "}\n",
        "int main()\n",
        "{\n",
        "    int *a,*b,*c;\n",
        "    int *a_dev,*b_dev,*c_dev;\n",
        "    int n=1<<24;\n",
        "    \n",
        "    a=new int[n];\n",
        "    b=new int[n];\n",
        "    c=new int[n];\n",
        "    int *d=new int[n];\n",
        "    int size=n*sizeof(int);\n",
        "    cudaMalloc(&a_dev,size);\n",
        "    cudaMalloc(&b_dev,size);\n",
        "    cudaMalloc(&c_dev,size);\n",
        "    \n",
        "    //Array initialization..You can use Randon function to assign values\n",
        "    for(int i=0;i<n;i++)\n",
        "    {\n",
        "        a[i]=1;\n",
        "        b[i]=2;\n",
        "        d[i]=a[i]+b[i]; //calculating serial addition\n",
        "    }\n",
        "    \n",
        "    \n",
        "    cudaEvent_t start,end;\n",
        "    \n",
        "    cudaEventCreate(&start);\n",
        "    cudaEventCreate(&end);\n",
        "    \n",
        "    cudaMemcpy(a_dev,a,size,cudaMemcpyHostToDevice);\n",
        "    cudaMemcpy(b_dev,b,size,cudaMemcpyHostToDevice);\n",
        "    int threads=1024;\n",
        "    int blocks=(n+threads-1)/threads;\n",
        "    cudaEventRecord(start);\n",
        "    \n",
        "    //Parallel addition program\n",
        "    vectorAdd<<<blocks,threads>>>(a_dev,b_dev,c_dev,n);\n",
        "    \n",
        "    cudaEventRecord(end);\n",
        "    cudaEventSynchronize(end);\n",
        "    \n",
        "    float time=0.0;\n",
        "    cudaEventElapsedTime(&time,start,end);\n",
        "    \n",
        "    cudaMemcpy(c,c_dev,size,cudaMemcpyDeviceToHost);\n",
        "    \n",
        "    //Calculate the error term.\n",
        "    int error=0;\n",
        "    for(int i=0;i<n;i++){\n",
        "        error+=d[i]-c[i];\n",
        "        //cout<<\" gpu \"<<c[i]<<\" CPU \"<<d[i];\n",
        "    }\n",
        "    \n",
        "    cout<<\"Error : \"<<error;\n",
        "    cout<<\"\\nTime Elapsed:  \"<<time;\n",
        "    \n",
        "    return 0;\n",
        "}"
      ],
      "metadata": {
        "colab": {
          "base_uri": "https://localhost:8080/"
        },
        "id": "DTd93IWdkFQ7",
        "outputId": "9ecd2621-d371-42c4-9331-1eff53eb71a9"
      },
      "execution_count": null,
      "outputs": [
        {
          "output_type": "stream",
          "name": "stdout",
          "text": [
            "Error : 50331648\n",
            "Time Elapsed:  0.002912\n"
          ]
        }
      ]
    },
    {
      "cell_type": "code",
      "source": [
        "%%cu\n",
        "\n",
        "#include<iostream>\n",
        "#include<cstdlib>\n",
        "#include<cmath>\n",
        "using namespace std;\n",
        "\n",
        "//Matrix multiplication Cuda \n",
        "__global__ void matrixMultiplication(int *a, int *b, int *c, int n)\n",
        "{\n",
        "    int row=threadIdx.y+blockDim.y*blockIdx.y;\n",
        "    int col=threadIdx.x+blockDim.x*blockIdx.x;\n",
        "    int sum=0;\n",
        "   \n",
        "    if(row<n && col<n)\n",
        "    for(int j=0;j<n;j++)\n",
        "    {\n",
        "        sum=sum+a[row*n+j]*b[j*n+col];\n",
        "    }\n",
        "    \n",
        "    c[n*row+col]=sum;\n",
        "}\n",
        "int main()\n",
        "{\n",
        "    int *a,*b,*c;\n",
        "    int *a_dev,*b_dev,*c_dev;\n",
        "    int n=3;\n",
        "    \n",
        "    a=new int[n*n];\n",
        "    b=new int[n*n];\n",
        "    c=new int[n*n];\n",
        "    int *d=new int[n*n];\n",
        "    int size=n*n*sizeof(int);\n",
        "    cudaMalloc(&a_dev,size);\n",
        "    cudaMalloc(&b_dev,size);\n",
        "    cudaMalloc(&c_dev,size);\n",
        "    \n",
        "    //Array initialization\n",
        "    for(int i=0;i<n*n;i++)\n",
        "    {\n",
        "          a[i]=2;  //rand()%n;\n",
        "        b[i]=1;//rand()%n;\n",
        "       // d[i]=a[i]+b[i];\n",
        "    }\n",
        "    \n",
        "    \n",
        "    cudaEvent_t start,end;\n",
        "    \n",
        "    cudaEventCreate(&start);\n",
        "    cudaEventCreate(&end);\n",
        "    \n",
        "    cudaMemcpy(a_dev,a,size,cudaMemcpyHostToDevice);\n",
        "    cudaMemcpy(b_dev,b,size,cudaMemcpyHostToDevice);\n",
        "    \n",
        "    \n",
        "    dim3 threadsPerBlock(n, n);\n",
        "    dim3 blocksPerGrid(1, 1);\n",
        "    \n",
        "    if(n*n>512){\n",
        "        threadsPerBlock.x=512;\n",
        "        threadsPerBlock.y=512;\n",
        "        blocksPerGrid.x=ceil((double)n/(double)threadsPerBlock.x);\n",
        "        blocksPerGrid.y=ceil((double)n/(double)threadsPerBlock.y);\n",
        "    }\n",
        "    //GPU Multiplication\n",
        "    cudaEventRecord(start);\n",
        "    matrixMultiplication<<<blocksPerGrid,threadsPerBlock>>>(a_dev,b_dev,c_dev,n);\n",
        "    \n",
        "    cudaEventRecord(end);\n",
        "    cudaEventSynchronize(end);\n",
        "    \n",
        "    float time=0.0;\n",
        "    cudaEventElapsedTime(&time,start,end);\n",
        "    \n",
        "    cudaMemcpy(c,c_dev,size,cudaMemcpyDeviceToHost);\n",
        "    \n",
        "    \n",
        "    //CPU matrix multiplication\n",
        "    int sum=0;\n",
        "    for(int row=0;row<n;row++)\n",
        "    {\n",
        "        for(int col=0;col<n;col++)\n",
        "        {\n",
        "           sum=0;\n",
        "           for(int k=0;k<n;k++)\n",
        "              sum=sum+a[row*n+k]*b[k*n+col];  \n",
        "            d[row*n+col]=sum;\n",
        "        }\n",
        "      \n",
        "    }\n",
        "    int error=0;\n",
        "    for(int i=0;i<n*n;i++){\n",
        "        error+=d[i]-c[i];\n",
        "        //cout<<\" gpu \"<<c[i]<<\" CPU \"<<d[i]<<endl;\n",
        "    }\n",
        "    \n",
        "    cout<<\"Error : \"<<error;\n",
        "    cout<<\"\\nTime Elapsed:  \"<<time;\n",
        "    \n",
        "    return 0;\n",
        "}"
      ],
      "metadata": {
        "colab": {
          "base_uri": "https://localhost:8080/"
        },
        "id": "bCbcF8iokS-4",
        "outputId": "5f854ebd-0018-474b-b21e-24efc0275336"
      },
      "execution_count": null,
      "outputs": [
        {
          "output_type": "stream",
          "name": "stdout",
          "text": [
            "The maximum element is : 0\n",
            "The time required : 0.003968\n",
            "\n"
          ]
        }
      ]
    }
  ]
}