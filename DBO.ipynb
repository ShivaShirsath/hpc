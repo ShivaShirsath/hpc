{
  "cells": [
    {
      "cell_type": "markdown",
      "metadata": {
        "id": "view-in-github",
        "colab_type": "text"
      },
      "source": [
        "<a href=\"https://colab.research.google.com/github/ShivaShirsath/hpc/blob/master/DBO.ipynb\" target=\"_parent\"><img src=\"https://colab.research.google.com/assets/colab-badge.svg\" alt=\"Open In Colab\"/></a>"
      ]
    },
    {
      "cell_type": "code",
      "execution_count": 2,
      "metadata": {
        "id": "8KN0Kjbv0hIv"
      },
      "outputs": [],
      "source": [
        "import itertools\n",
        "import multiprocessing\n",
        "import random\n",
        "import time"
      ]
    },
    {
      "cell_type": "code",
      "source": [
        "# Generate all possible query execution plans\n",
        "def generate_query_plans():\n",
        "    tables = ['tableA', 'tableB', 'tableC']\n",
        "    columns = ['columnA', 'columnB', 'columnC']\n",
        "    join_types = ['INNER JOIN', 'LEFT JOIN', 'RIGHT JOIN', 'FULL OUTER JOIN']\n",
        "    where_operators = ['=', '>', '<', '>=', '<=', '<>', 'LIKE']\n",
        "    query_plans = []\n",
        "    for i in range(1000):\n",
        "        # Generate a random query execution plan\n",
        "        tables_subset = random.sample(tables, random.randint(2, 5))\n",
        "        columns_subset = random.sample(columns, random.randint(2, 5))\n",
        "        join_subset = random.sample(join_types, len(tables_subset) - 1)\n",
        "        where_subset = []\n",
        "        for column in columns_subset:\n",
        "            where_subset.append((column, random.choice(where_operators), random.randint(1, 100)))\n",
        "        # Convert the query execution plan to a SQL statement\n",
        "        query = 'SELECT ' + ', '.join(columns_subset) + ' FROM ' + tables_subset[0]\n",
        "        for i in range(len(join_subset)):\n",
        "            query += ' ' + join_subset[i] + ' ' + tables_subset[i + 1] + ' ON ' + random.choice(columns_subset) + ' = ' + random.choice(columns_subset)\n",
        "        if where_subset:\n",
        "            query += ' WHERE ' + ' AND '.join([f\"{x[0]} {x[1]} {x[2]}\" for x in where_subset])\n",
        "        query_plans.append(query)\n",
        "    return query_plans"
      ],
      "metadata": {
        "id": "0ciSdNPvquix"
      },
      "execution_count": 3,
      "outputs": []
    },
    {
      "cell_type": "code",
      "source": [
        "def optimize_query(query):\n",
        "    time.sleep(random.random())\n",
        "    execution_time = random.random()\n",
        "    return (query, execution_time)"
      ],
      "metadata": {
        "id": "2WiulOuyqyvV"
      },
      "execution_count": null,
      "outputs": []
    },
    {
      "cell_type": "code",
      "source": [
        "def optimize_queries_parallel(query_plans):\n",
        "    num_processes = multiprocessing.cpu_count()\n",
        "    query_subsets = [query_plans[i::num_processes] for i in range(num_processes)]\n",
        "    pool = multiprocessing.Pool(processes=num_processes)\n",
        "    optimized_query_plans = []\n",
        "    for i in range(num_processes):\n",
        "        optimized_query_subsets = pool.map(optimize_query, query_subsets[i])\n",
        "        optimized_query_plans += optimized_query_subsets\n",
        "    pool.close()\n",
        "    pool.join()\n",
        "    optimized_query_plans.sort(key=lambda x: x[1])\n",
        "    return optimized_query_plans[0][0]"
      ],
      "metadata": {
        "id": "F-w47sFZqjzE"
      },
      "execution_count": null,
      "outputs": []
    },
    {
      "cell_type": "code",
      "source": [
        "if __name__ == '__main__':\n",
        "    query_plans = generate_query_plans()\n",
        "    print(\"Query plans:\")\n",
        "    for query in query_plans:\n",
        "        print(query)\n",
        "    optimized_query = optimize_queries_parallel(query_plans)\n",
        "    print(\"Optimized query:\")\n",
        "    print(optimized_query)"
      ],
      "metadata": {
        "colab": {
          "base_uri": "https://localhost:8080/",
          "height": 235
        },
        "id": "ALqJ_Zlxq7qT",
        "outputId": "7d583c8f-4c43-458e-9bea-fd61046b6e10"
      },
      "execution_count": 1,
      "outputs": [
        {
          "output_type": "error",
          "ename": "NameError",
          "evalue": "ignored",
          "traceback": [
            "\u001b[0;31m---------------------------------------------------------------------------\u001b[0m",
            "\u001b[0;31mNameError\u001b[0m                                 Traceback (most recent call last)",
            "\u001b[0;32m<ipython-input-1-3df63bcf4d93>\u001b[0m in \u001b[0;36m<module>\u001b[0;34m\u001b[0m\n\u001b[1;32m      1\u001b[0m \u001b[0;32mif\u001b[0m \u001b[0m__name__\u001b[0m \u001b[0;34m==\u001b[0m \u001b[0;34m'__main__'\u001b[0m\u001b[0;34m:\u001b[0m\u001b[0;34m\u001b[0m\u001b[0;34m\u001b[0m\u001b[0m\n\u001b[0;32m----> 2\u001b[0;31m     \u001b[0mquery_plans\u001b[0m \u001b[0;34m=\u001b[0m \u001b[0mgenerate_query_plans\u001b[0m\u001b[0;34m(\u001b[0m\u001b[0;34m)\u001b[0m\u001b[0;34m\u001b[0m\u001b[0;34m\u001b[0m\u001b[0m\n\u001b[0m\u001b[1;32m      3\u001b[0m     \u001b[0mprint\u001b[0m\u001b[0;34m(\u001b[0m\u001b[0;34m\"Query plans:\"\u001b[0m\u001b[0;34m)\u001b[0m\u001b[0;34m\u001b[0m\u001b[0;34m\u001b[0m\u001b[0m\n\u001b[1;32m      4\u001b[0m     \u001b[0;32mfor\u001b[0m \u001b[0mquery\u001b[0m \u001b[0;32min\u001b[0m \u001b[0mquery_plans\u001b[0m\u001b[0;34m:\u001b[0m\u001b[0;34m\u001b[0m\u001b[0;34m\u001b[0m\u001b[0m\n\u001b[1;32m      5\u001b[0m         \u001b[0mprint\u001b[0m\u001b[0;34m(\u001b[0m\u001b[0mquery\u001b[0m\u001b[0;34m)\u001b[0m\u001b[0;34m\u001b[0m\u001b[0;34m\u001b[0m\u001b[0m\n",
            "\u001b[0;31mNameError\u001b[0m: name 'generate_query_plans' is not defined"
          ]
        }
      ]
    }
  ],
  "metadata": {
    "accelerator": "GPU",
    "colab": {
      "provenance": [],
      "authorship_tag": "ABX9TyP9A8Z6vk4vQbn8RBPGRiM/",
      "include_colab_link": true
    },
    "gpuClass": "standard",
    "kernelspec": {
      "display_name": "Python 3",
      "name": "python3"
    },
    "language_info": {
      "name": "python"
    }
  },
  "nbformat": 4,
  "nbformat_minor": 0
}